{
 "cells": [
  {
   "cell_type": "code",
   "execution_count": 1,
   "metadata": {},
   "outputs": [],
   "source": [
    "import numpy as np\n",
    "import os\n",
    "import pandas as pd\n",
    "from datetime import datetime as dt"
   ]
  },
  {
   "cell_type": "code",
   "execution_count": 2,
   "metadata": {},
   "outputs": [],
   "source": [
    "DATA_PATH='../../SCHOOL/INFO633/ASSIN 3/data/'"
   ]
  },
  {
   "cell_type": "markdown",
   "metadata": {},
   "source": [
    "---\n",
    "### CENCUS DATASET"
   ]
  },
  {
   "cell_type": "code",
   "execution_count": 3,
   "metadata": {},
   "outputs": [],
   "source": [
    "cencus_data='nc-est2019-sr11h.xlsx'\n",
    "\n",
    "pop_data_file=pd.read_excel(DATA_PATH+cencus_data, skiprows=3)"
   ]
  },
  {
   "cell_type": "code",
   "execution_count": 14,
   "metadata": {},
   "outputs": [],
   "source": [
    "POPULATION_DATA=pd.DataFrame()\n",
    "POPULATION_DATA['Cases_Total']=[pop_data_file.T[0].loc[2019], (pop_data_file.T[0].loc[2019])]\n",
    "POPULATION_DATA['Cases_White']=197304822#[pop_data_file.T[2].loc[2019], (pop_data_file.T[2].loc[2019])]\n",
    "POPULATION_DATA['Cases_Black']=[pop_data_file.T[3].loc[2019], (pop_data_file.T[3].loc[2019])]\n",
    "POPULATION_DATA['Cases_LatinX']=[pop_data_file.T[28].loc[2019], (pop_data_file.T[28].loc[2019])]\n",
    "POPULATION_DATA['Cases_Asian']=[pop_data_file.T[5].loc[2019],(pop_data_file.T[5].loc[2019])]\n",
    "POPULATION_DATA['Cases_AIAN']=[pop_data_file.T[4].loc[2019],(pop_data_file.T[4].loc[2019])]\n",
    "POPULATION_DATA['Cases_NHPI']=[pop_data_file.T[6].loc[2019], (pop_data_file.T[6].loc[2019])]\n",
    "POPULATION_DATA['Cases_Multiracial']=[pop_data_file.T[7].loc[2019], (pop_data_file.T[7].loc[2019])]\n",
    "POPULATION_DATA.iloc[1]=POPULATION_DATA.iloc[0]/POPULATION_DATA['Cases_Total'][0]*100"
   ]
  },
  {
   "cell_type": "code",
   "execution_count": 15,
   "metadata": {},
   "outputs": [],
   "source": [
    "POPULATION_DATA.to_excel(DATA_PATH+'population_df.xlsx', index=False)"
   ]
  },
  {
   "cell_type": "markdown",
   "metadata": {},
   "source": [
    "---\n",
    "### ORIGINAL_DATASET Cleaning"
   ]
  },
  {
   "cell_type": "code",
   "execution_count": 24,
   "metadata": {},
   "outputs": [],
   "source": [
    "COVID_DATA=pd.read_csv(DATA_PATH+'Race Data Entry - CRDT (1).csv', parse_dates=['Date'])"
   ]
  },
  {
   "cell_type": "code",
   "execution_count": 48,
   "metadata": {},
   "outputs": [],
   "source": [
    "COVID_DATA=COVID_DATA[~COVID_DATA['State'].isin(['AS','GU','MP','PR','VI'])]\n"
   ]
  },
  {
   "cell_type": "code",
   "execution_count": 12,
   "metadata": {},
   "outputs": [],
   "source": [
    "for cases_i in COVID_DATA.columns[2:]:\n",
    "    new_case=[]\n",
    "    for num, i in enumerate(COVID_DATA[cases_i]):\n",
    "        if type(i) is str:\n",
    "            i=(float(i.replace(',', '')))\n",
    "        new_case.append(i)\n",
    "    COVID_DATA[cases_i]=new_case"
   ]
  },
  {
   "cell_type": "code",
   "execution_count": 13,
   "metadata": {},
   "outputs": [],
   "source": [
    "COVID_DATA[COVID_DATA.columns[2:]]=COVID_DATA[COVID_DATA.columns[2:]].astype(float)"
   ]
  },
  {
   "cell_type": "markdown",
   "metadata": {},
   "source": [
    "----\n",
    "#### DATASET OF SUMMATION OF CASES/DEATH BY DATE"
   ]
  },
  {
   "cell_type": "code",
   "execution_count": 14,
   "metadata": {},
   "outputs": [],
   "source": [
    "SUM_DATASET=pd.DataFrame({'Date':np.unique(COVID_DATA['Date'])})\n",
    "DIFF_SUM_DATASET=pd.DataFrame({'Date':np.unique(COVID_DATA['Date'])})\n",
    "PERCENT_DATASET=pd.DataFrame({'Date':np.unique(COVID_DATA['Date'])})\n",
    "\n",
    "\n",
    "for i in COVID_DATA[COVID_DATA.columns[2:]]:\n",
    "    SUM_DATASET[i]=np.nan\n",
    "    DIFF_SUM_DATASET[i]=np.nan"
   ]
  },
  {
   "cell_type": "code",
   "execution_count": 15,
   "metadata": {},
   "outputs": [],
   "source": [
    "for case_death_i in COVID_DATA[COVID_DATA.columns[2:]]:\n",
    "    for date_i in np.unique(COVID_DATA['Date']):\n",
    "        sumed=np.sum(COVID_DATA[case_death_i][COVID_DATA['Date']==date_i])\n",
    "        SUM_DATASET.loc[SUM_DATASET.Date==date_i, case_death_i]=sumed"
   ]
  },
  {
   "cell_type": "markdown",
   "metadata": {},
   "source": [
    "#### ADDING DAILY CHANGE COLUMNS"
   ]
  },
  {
   "cell_type": "code",
   "execution_count": 16,
   "metadata": {},
   "outputs": [],
   "source": [
    "for sum_col, diff_col in zip(SUM_DATASET.columns[1:],DIFF_SUM_DATASET.columns[1:]):\n",
    "    diff=[0] \n",
    "    for i, sum_i in enumerate(SUM_DATASET[sum_col][1:]):\n",
    "        daily_change=sum_i-SUM_DATASET[sum_col][i]\n",
    "        diff.append(daily_change)\n",
    "    DIFF_SUM_DATASET[diff_col]=diff"
   ]
  },
  {
   "cell_type": "markdown",
   "metadata": {},
   "source": [
    "#### ADDING % COLUMNS"
   ]
  },
  {
   "cell_type": "code",
   "execution_count": 27,
   "metadata": {},
   "outputs": [],
   "source": [
    "total_case_sum=SUM_DATASET['Cases_Total']-SUM_DATASET['Cases_Unknown']\n",
    "total_death_sum=SUM_DATASET['Deaths_Total']-SUM_DATASET['Deaths_Unknown']\n",
    "\n",
    "## CASE COLUMNS\n",
    "for sum_col in SUM_DATASET.columns[2:10]:\n",
    "    tar_col=SUM_DATASET[sum_col]\n",
    "    perc_col=(tar_col/total_case_sum)*100\n",
    "    PERCENT_DATASET[sum_col]=perc_col\n",
    "    \n",
    "## DEATH COLUMNS\n",
    "for sum_col in SUM_DATASET.columns[14:24]:\n",
    "    tar_col=SUM_DATASET[sum_col]\n",
    "    perc_col=(tar_col/total_death_sum)*100\n",
    "    PERCENT_DATASET[sum_col]=perc_col"
   ]
  },
  {
   "cell_type": "code",
   "execution_count": 35,
   "metadata": {},
   "outputs": [],
   "source": [
    "POPULATION_SCALED_DF=pd.DataFrame({'Date':np.unique(SUM_DATASET['Date'])})\n",
    "for percent, pop_cent in zip(SUM_DATASET[SUM_DATASET.columns[1:9]],POPULATION_DATA[POPULATION_DATA.columns[:]]):\n",
    "    POPULATION_SCALED_DF[percent]=SUM_DATASET[percent]/POPULATION_DATA[pop_cent].iloc[0]*100\n",
    "for percent, pop_cent in zip(SUM_DATASET[SUM_DATASET.columns[14:22]],POPULATION_DATA[POPULATION_DATA.columns[:]]):\n",
    "    POPULATION_SCALED_DF[percent]=SUM_DATASET[percent]/POPULATION_DATA[pop_cent].iloc[0]*100"
   ]
  },
  {
   "cell_type": "markdown",
   "metadata": {},
   "source": [
    "---\n",
    "#### SAVING:"
   ]
  },
  {
   "cell_type": "code",
   "execution_count": 31,
   "metadata": {},
   "outputs": [],
   "source": [
    "# SUM_DATASET.to_excel(DATA_PATH+'DAILY_SUMS.xlsx', index=False)\n",
    "# COVID_DATA.to_excel(DATA_PATH+'OLD_CLEAN_DATASET.xlsx', index=False)\n",
    "# PERCENT_DATASET.to_excel(DATA_PATH+'PERCENT_DATA.xlsx', index=False)\n",
    "# DIFF_SUM_DATASET.to_excel(DATA_PATH+'DIFF_SUM_DATA.xlsx', index=False)"
   ]
  },
  {
   "cell_type": "code",
   "execution_count": null,
   "metadata": {},
   "outputs": [],
   "source": []
  }
 ],
 "metadata": {
  "kernelspec": {
   "display_name": "Python 3",
   "language": "python",
   "name": "python3"
  },
  "language_info": {
   "codemirror_mode": {
    "name": "ipython",
    "version": 3
   },
   "file_extension": ".py",
   "mimetype": "text/x-python",
   "name": "python",
   "nbconvert_exporter": "python",
   "pygments_lexer": "ipython3",
   "version": "3.7.9"
  }
 },
 "nbformat": 4,
 "nbformat_minor": 4
}
